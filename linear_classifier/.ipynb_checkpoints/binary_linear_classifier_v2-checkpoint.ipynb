{
 "cells": [
  {
   "cell_type": "markdown",
   "id": "dee11e74-cdb3-437a-a24b-e15c760e1b7c",
   "metadata": {},
   "source": [
    "**D3APL: Aplicações em Ciência de Dados** <br/>\n",
    "IFSP Campinas\n",
    "\n",
    "Alexandre Freire da Silva Osorio <br/><br/>"
   ]
  },
  {
   "cell_type": "markdown",
   "id": "f8ea0759-e8cf-4f80-834f-bd2c5cea6f83",
   "metadata": {},
   "source": [
    "# Implementando um Classificador Multiclasses a partir do dataset Wine"
   ]
  },
  {
   "cell_type": "markdown",
   "id": "a19a4d1f-c7a8-4056-a269-8f2b14185160",
   "metadata": {},
   "source": [
    "## Regressor Logístico com Gradient Descent e 3 tipos de otimizadores (estocástico, mini-batch e batch)"
   ]
  },
  {
   "cell_type": "markdown",
   "id": "6f9a910d-98d3-4bfa-8d86-e113e99845a9",
   "metadata": {},
   "source": [
    "## 1. Carregando o dataset"
   ]
  },
  {
   "cell_type": "markdown",
   "id": "5f513a89-e309-4aae-8c70-5e5b3bf1d229",
   "metadata": {},
   "source": [
    "#### Imports"
   ]
  },
  {
   "cell_type": "code",
   "execution_count": 17,
   "id": "4fd679ba-2fc2-4c54-af18-497b054c3342",
   "metadata": {},
   "outputs": [],
   "source": [
    "import numpy as np\n",
    "from sklearn.datasets import make_blobs\n",
    "from sklearn.model_selection import train_test_split\n",
    "import matplotlib.pyplot as plt"
   ]
  },
  {
   "cell_type": "markdown",
   "id": "fdffb2ff-9029-41ba-8489-97e99c5f3844",
   "metadata": {},
   "source": [
    "#### Carregando o dataset wine"
   ]
  },
  {
   "cell_type": "code",
   "execution_count": 18,
   "id": "3d277432-237a-4e5f-b720-266d7e1d15d3",
   "metadata": {},
   "outputs": [],
   "source": [
    "from sklearn.datasets import load_wine\n",
    "\n",
    "X, y = load_wine(return_X_y=True)\n",
    "\n",
    "X_train, X_test, y_train, y_test = train_test_split(X, y, random_state=42)"
   ]
  },
  {
   "cell_type": "code",
   "execution_count": 19,
   "id": "68c40a24-22d8-454a-95f7-31e85d6e0744",
   "metadata": {},
   "outputs": [
    {
     "name": "stdout",
     "output_type": "stream",
     "text": [
      "X_train.shape = (133, 13)\n",
      "y_train.shape = (133,)\n",
      "X_test.shape = (45, 13)\n",
      "y_test.shape = (45,)\n"
     ]
    }
   ],
   "source": [
    "print(f'X_train.shape = {X_train.shape}')\n",
    "print(f'y_train.shape = {y_train.shape}')\n",
    "\n",
    "print(f'X_test.shape = {X_test.shape}')\n",
    "print(f'y_test.shape = {y_test.shape}')"
   ]
  },
  {
   "cell_type": "markdown",
   "id": "c08365a0-6e2c-45e7-9f97-a29390b80829",
   "metadata": {},
   "source": [
    "## 2. Implementação do Classificador"
   ]
  },
  {
   "cell_type": "markdown",
   "id": "052d62de-9900-4d20-8045-12bfbacc7b98",
   "metadata": {},
   "source": [
    "Parâmetros do construtor:\n",
    "\n",
    "- optimizer: str = default=“batch”\n",
    "-- Algoritmo de otimização (“batch”, “mini”, “estocástico”)\n",
    "- batch_sz: int = default=32\n",
    "-- Tamanho do batch\n",
    "- learning_rate: float, default=0,001\n",
    "-- Taxa de Aprendizagem.\n",
    "- n_epochs : int, default=1000\n",
    "-- Número de épocas para treinamento (parada de convergência).\n",
    "- alpha : float, default=0,0001\n",
    "-- Constante que multiplica o termo de regularização.\n",
    "-- Use 0 para ignorar a regularização (regressão logística padrão).\n",
    "- random_state: int, default=42\n",
    "-- Semente usada para gerar números aleatórios."
   ]
  },
  {
   "cell_type": "code",
   "execution_count": 20,
   "id": "5348e2f2-750f-4eaa-a200-56799c66a1f7",
   "metadata": {},
   "outputs": [],
   "source": [
    "from typing import Tuple\n",
    "\n",
    "import numpy as np\n",
    "from numpy import ndarray\n",
    "\n",
    "from sklearn.base import BaseEstimator, ClassifierMixin\n",
    "\n",
    "\n",
    "class LogRegression(ClassifierMixin, BaseEstimator):\n",
    "    \n",
    "    def __init__(self, \n",
    "                 optimizer: str = 'batch',\n",
    "                 batch_sz: int = 32,\n",
    "                 learning_rate: float = 0.001,\n",
    "                 n_epochs: int = 3000,\n",
    "                 alpha: float = 0.0001, \n",
    "                 random_state: int = 42):\n",
    "        \"\"\"\n",
    "         Parâmetros\n",
    "         ----------\n",
    "         optimizer: str = default=“batch”\n",
    "             Algoritmo de otimização (“batch”, “mini”, “estocástico”)\n",
    "         batch_sz: int = default=32\n",
    "             Tamanho do batch\n",
    "         learning_rate: float, default=0,001\n",
    "             Taxa de Aprendizagem.\n",
    "         n_epochs : int, default=1000\n",
    "             Número de épocas para treinamento (parada de convergência).\n",
    "         alpha : float, default=0,0001\n",
    "             Constante que multiplica o termo de regularização.\n",
    "             Use 0 para ignorar a regularização (regressão logística padrão).\n",
    "         random_state: int, default=42\n",
    "             Semente usada para gerar números aleatórios.\n",
    "        \"\"\"\n",
    "        assert (optimizer is not None) and (optimizer != ''), \\\n",
    "        f'O otimizador deve ser batch, mini ou stochastic. Passou: {optimizer}'\n",
    "        \n",
    "        assert (batch_sz is not None) and (batch_sz > 0), \\\n",
    "        f'O tamanho do batch deve ser > 0. Passed: {batch_sz}'\n",
    "        \n",
    "        assert (learning_rate is not None) and (learning_rate > 0.0), \\\n",
    "        f'Learning rate deve ser > 0. Passed: {learning_rate}'\n",
    "        \n",
    "        assert (n_epochs is not None) and (n_epochs > 0), \\\n",
    "        f'Número de épocas deve ser > 0. Passed: {n_epochs}'\n",
    "        \n",
    "        assert (alpha is not None) and (alpha >= 0), \\\n",
    "        f'Alpha deve ser >= 0. Passed: {alpha}'\n",
    "        \n",
    "        self.optimizer = optimizer\n",
    "        self.batch_sz = batch_sz\n",
    "        self.learning_rate = learning_rate\n",
    "        self.n_epochs = n_epochs\n",
    "        self.alpha = alpha\n",
    "        self.random_state = random_state\n",
    "        \n",
    "        # parâmetros a serem aprendidos\n",
    "        MAX_CLASSES = 10\n",
    "        MAX_FEATURES = 13\n",
    "\n",
    "        self.__w = np.zeros((MAX_CLASSES, MAX_FEATURES))  # array de pesos (um vetor para cada classe)\n",
    "        self.__b = np.zeros((MAX_CLASSES, 1))  # bias\n",
    "\n",
    "\n",
    "    # Método especial usado para representar um objeto de classe como uma string, chamado com print() ou str()\n",
    "    def __str__(self):\n",
    "        msg = f'Otimizador: {self.optimizer}\\n' \\\n",
    "        f'Tamanho do batch: {self.batch_sz}\\n' \\\n",
    "        f'Taxa de aprendizado: {self.learning_rate}\\n' \\\n",
    "        f'Número de épocas: {self.n_epochs}\\n' \\\n",
    "        f'Constante de regularização (alpha): {self.alpha}\\n' \\\n",
    "        f'Estado aleatório: {self.random_state}\\n\\n' \\\n",
    "        f'Treinado?: {self.is_fitted()}\\n'\n",
    "        return msg\n",
    "\n",
    "\n",
    "    # getter: acessar a função como um atributo - não é possível definir valores através dele\n",
    "    @property\n",
    "    def coef_(self) -> ndarray:\n",
    "        \"\"\"Retorne a matriz de pesos (parâmetros aprendidos), caso o estimador tenha sido treinado.\n",
    "           Caso contrário, lance uma exceção.\n",
    "        \"\"\"\n",
    "        assert self.is_fitted(), 'Não foi treinado ainda.'\n",
    "        return self.__w\n",
    "    \n",
    "    \n",
    "    # getter: acessar a função como um atributo - não é possível definir valores através dele\n",
    "    @property\n",
    "    def intercept_(self) -> float:\n",
    "        \"\"\"Retorne o bias (intercepto aprendido) se o estimador foi treinado.\n",
    "           Caso contrário, lance uma exceção.\n",
    "        \"\"\"\n",
    "        assert self.is_fitted(), 'Não foi treinado ainda.'\n",
    "        return self.__b\n",
    "    \n",
    "    \n",
    "    def is_fitted(self) -> bool:\n",
    "        a = np.zeros(self.__w.shape)\n",
    "        if (self.__w == a).all():\n",
    "            return False\n",
    "        else:\n",
    "            return True    \n",
    "\n",
    "\n",
    "    def __sigmoid(self, z: ndarray) -> ndarray:\n",
    "        return 1 / (1 + np.e ** (-z))\n",
    "\n",
    "\n",
    "    def __log_loss(self, y: ndarray, p_hat: ndarray, eps: float = 1e-15):\n",
    "        '''Retorne a loss para uma determinada estimativa e rótulos verdadeiros.\n",
    "\n",
    "        \n",
    "         Parâmetros\n",
    "         ----------\n",
    "         y : ndarray, shape (n_samples,)\n",
    "             Rótulos verdadeiros de amostras de entrada.\n",
    "         p_hat : ndarray\n",
    "             Probabilidades estimadas de amostras de entrada.\n",
    "         eps: float, default=1e-15\n",
    "             Termo Epsilon usado para evitar uma loss indefinida em 0 e 1.\n",
    "        \n",
    "         Retorno\n",
    "         -------\n",
    "         log_loss: float\n",
    "             Perda de log computada.        \n",
    "        '''\n",
    "        \n",
    "        p_hat_eps = np.maximum(eps, np.minimum(1 - eps, p_hat))\n",
    "        \n",
    "        # shape: (n_samples,)\n",
    "        losses = -(y * np.log(p_hat_eps) + (1 - y) * np.log(1 - p_hat_eps))\n",
    "        log_loss = losses.mean()\n",
    "        \n",
    "        return log_loss\n",
    "    \n",
    "    \n",
    "    def __gradient(self, X: ndarray, y: ndarray, p_hat: ndarray,\n",
    "                   w: ndarray, alpha: float) -> Tuple[ndarray, float]:\n",
    "        '''Calcule o vetor de gradiente para a log loss em relação aos pesos e bias.\n",
    "        \n",
    "        Parâmetros\n",
    "        ----------\n",
    "         X: ndarray de forma (n_samples, n_features)\n",
    "             Dados de treinamento.\n",
    "         y: ndarray de forma (n_samples,).\n",
    "             Rótulos de destino (verdadeiros).\n",
    "         p_hat : ndarray, forma (n_samples,)\n",
    "             Probabilidades estimadas.\n",
    "         w : ndarray, forma (n_features,)\n",
    "             Matriz de peso.\n",
    "         alfa: flutuar\n",
    "             Constante de regularização.        \n",
    "             \n",
    "        Retornos\n",
    "        -------\n",
    "        Tuple[ndarray, float]: \n",
    "            Tupla com:\n",
    "             - uma matriz numpy de forma (n_features,) contendo as derivadas parciais com respeito aos pesos; e\n",
    "             - um float representando a derivada parcial com respeito ao bias.        \n",
    "        '''\n",
    "        \n",
    "        regularization = alpha * w\n",
    "    \n",
    "        n_samples = X.shape[0]\n",
    "        \n",
    "        error = p_hat - y  # shape (n_samples,)\n",
    "        grad_w = (np.dot(error, X) / n_samples) + regularization  # shape (n_features,)\n",
    "        grad_b = error.mean()  # float\n",
    "        \n",
    "        return grad_w, grad_b\n",
    "\n",
    "    \n",
    "    # Transforma um vetor de saída multiclasses num vetor uniclasse\n",
    "    def __make_bin(self, y: ndarray, curr_class: int) -> ndarray:\n",
    "        return (y[:] == curr_class).astype(int)\n",
    "\n",
    "        \n",
    "    def __fit_core(self, X: ndarray, y: ndarray) -> Tuple[ndarray, ndarray]:\n",
    "        ### INICIALIZACAO DE PARAMETROS\n",
    "        # \n",
    "        w = np.random.randn(self.n_features)  # shape: (n_features,)\n",
    "        b = 0.0\n",
    "\n",
    "        # array that stores the loss of each epoch\n",
    "        losses = []\n",
    "\n",
    "        # Iterações do aprendizado\n",
    "        for epoch in np.arange(self.n_epochs):\n",
    "\n",
    "            ### Itera sobre cada batch_sz conjunto de amostras\n",
    "            #\n",
    "            i = 0\n",
    "            while (i + self.n_samples_per_batch) <= X.shape[0]:\n",
    "                X_batch = X[i:i + self.n_samples_per_batch, :]\n",
    "                y_batch = y[i:i + self.n_samples_per_batch]\n",
    "\n",
    "                z = np.dot(X_batch, w) + b\n",
    "\n",
    "                p_hat = self.__sigmoid(z)\n",
    "\n",
    "                loss_epoch = self.__log_loss(y_batch, p_hat)\n",
    "                losses.append(loss_epoch)\n",
    "\n",
    "                ### GRADIENT DESCENT \n",
    "                # grad_w.shape: (n_features,)\n",
    "                # grad_b: float\n",
    "                grad_w, grad_b = self.__gradient(X_batch, y_batch, p_hat, w, self.alpha)\n",
    "                w = w - self.learning_rate * grad_w  # shape: (n_features)\n",
    "                b = b - self.learning_rate * grad_b  # float\n",
    "\n",
    "                i += self.n_samples_per_batch\n",
    "\n",
    "        return w, b\n",
    "\n",
    "\n",
    "    def fit(self, X: ndarray, y: ndarray):\n",
    "        '''Treina o classificador.\n",
    "\n",
    "        Parâmetros\n",
    "        ----------\n",
    "         X: ndarray de shape (n_samples, n_features)\n",
    "             Conjunto de treinamento.\n",
    "         y: ndarray de shape (n_samples,).\n",
    "             Rótulos de destino (verdadeiros).\n",
    "         batch_sz: int\n",
    "             Tamanho do batch\n",
    "        '''\n",
    "        ### VERIFICAR AS DIMENSÕES DA MATRIZ DE ENTRADA (DO DATASET WINE)\n",
    "        assert X.ndim == 2, f'X deve ser 2D. Passou: {X.ndim}'\n",
    "        assert y.ndim == 1, f'y deve ser 1D. Passou: {y.ndim}'\n",
    "        assert X.shape[0] == y.shape[0], \\\n",
    "            f'X.shape[0] deve ser igual a y.shape[0]. Ao invés: {X.shape[0]} != {y.shape[0]}'\n",
    "        if self.optimizer == 'mini':\n",
    "            assert self.batch_sz < X.shape[0], \\\n",
    "                f'O tamanho do batch deve ser menor ou igual a X.shape[0]. Ao invés: {self.batch_sz} != {X.shape[0]}'\n",
    "        \n",
    "        ### CONFIGURAR A SEMENTE DO GERADOR ALEATORIO\n",
    "        np.random.seed(self.random_state)\n",
    "        \n",
    "        self.n_samples_per_batch, self.n_features = X.shape\n",
    "\n",
    "        ### Calcula o número de amostras por batch\n",
    "        if self.optimizer == 'batch':\n",
    "            self.n_samples_per_batch = X.shape[0]\n",
    "        elif self.optimizer == 'mini':\n",
    "            self.n_samples_per_batch = self.batch_sz\n",
    "        else: # optimizer = stochastic gradient descent\n",
    "            self.n_samples_per_batch = 1\n",
    "\n",
    "        ### Extrai as classes\n",
    "        self.classes = np.unique(y)\n",
    "\n",
    "        for c in self.classes:\n",
    "            \n",
    "            y_bin = self.__make_bin(y, c)\n",
    "\n",
    "            ### ATRIBUI OS PARÂMETROS TREINADOS AOS ATRIBUTOS PRIVADOS\n",
    "            self.__w[c], self.__b[c] = self.__fit_core(X, y_bin)\n",
    "\n",
    "\n",
    "    def predict_proba(self, X: ndarray, curr_class: int) -> ndarray:\n",
    "        '''Estima a probabilidade para a classe positiva de amostras de entrada.\n",
    "\n",
    "        Parameters\n",
    "        ----------\n",
    "        X: ndarray de shape (n_samples, n_features)\n",
    "            Amostras de entrada\n",
    "            \n",
    "        Retorna\n",
    "        -------\n",
    "        ndarray de shape (n_samples,)\n",
    "            As probabilidades estimadas para a classe positiva.\n",
    "        '''\n",
    "        assert self.is_fitted(), 'A instância ainda não foi treinada.'\n",
    "        assert X.ndim == 2, f'X deve ser 2D. Passou: {X.ndim}'\n",
    "\n",
    "        z = np.dot(X, self.__w[curr_class]) + self.__b[curr_class]\n",
    "\n",
    "        return self.__sigmoid(z)\n",
    "\n",
    "        \n",
    "        \n",
    "    def predict(self, X: ndarray) -> ndarray:\n",
    "        '''Prevê a classes de cada amostra dos dados de entrada.\n",
    "        \n",
    "        Parâmetros\n",
    "        ----------\n",
    "        X: ndarray de shape (n_samples, n_features)\n",
    "            Amostras de entrada\n",
    "            \n",
    "        Retorno\n",
    "        -------\n",
    "        ndarray de shape (n_samples,)\n",
    "            Rótulo predito de cada amostra.\n",
    "        '''\n",
    "        assert self.is_fitted(), 'A instância ainda não foi treinada.'\n",
    "        assert X.ndim == 2, f'X deve ser 2D. Passou: {X.ndim}'\n",
    "\n",
    "        n_samples = X.shape[0]\n",
    "        max_predict = np.zeros(n_samples)\n",
    "        y_hat = np.zeros(n_samples)\n",
    "\n",
    "        for c in self.classes:\n",
    "            p_hat = self.predict_proba(X, c)\n",
    "            for i in range(n_samples):\n",
    "                if p_hat[i] > max_predict[i]:\n",
    "                    max_predict[i] = p_hat[i]\n",
    "                    y_hat[i] = c\n",
    "\n",
    "        return y_hat"
   ]
  },
  {
   "cell_type": "markdown",
   "id": "72c7cd0e-e3a5-4f85-b02c-a504c2076e1f",
   "metadata": {},
   "source": [
    "## 3. Avaliação de modelos"
   ]
  },
  {
   "cell_type": "markdown",
   "id": "292dc4a4-7ddd-43e0-bf69-3ac4db83b2d0",
   "metadata": {},
   "source": [
    "### 3.1 Modelo com hiperparâmetros default e otimização batch"
   ]
  },
  {
   "cell_type": "code",
   "execution_count": 21,
   "id": "16a1e4d4-77f3-4758-92ed-f003f1b5425b",
   "metadata": {},
   "outputs": [
    {
     "name": "stdout",
     "output_type": "stream",
     "text": [
      "Imprimindo o objeto:\n",
      "Otimizador: batch\n",
      "Tamanho do batch: 32\n",
      "Taxa de aprendizado: 0.001\n",
      "Número de épocas: 3000\n",
      "Constante de regularização (alpha): 0.0001\n",
      "Estado aleatório: 42\n",
      "\n",
      "Treinado?: False\n",
      "\n"
     ]
    }
   ],
   "source": [
    "clf = LogRegression(optimizer='batch')\n",
    "\n",
    "print('Imprimindo o objeto:')\n",
    "print(clf)"
   ]
  },
  {
   "cell_type": "code",
   "execution_count": 22,
   "id": "88ae6e79-b9f8-49a4-8be7-15d91dbe6d52",
   "metadata": {},
   "outputs": [
    {
     "name": "stderr",
     "output_type": "stream",
     "text": [
      "/tmp/ipykernel_624297/2851006349.py:106: RuntimeWarning: overflow encountered in power\n",
      "  return 1 / (1 + np.e ** (-z))\n"
     ]
    }
   ],
   "source": [
    "clf.fit(X_train, y_train)"
   ]
  },
  {
   "cell_type": "code",
   "execution_count": 23,
   "id": "fe4dac39-d443-4b2a-bf59-0552d664e115",
   "metadata": {},
   "outputs": [],
   "source": [
    "y_test_pred = clf.predict(X_test)"
   ]
  },
  {
   "cell_type": "markdown",
   "id": "4d53daa2-0130-491e-bed4-2a146e5a5af3",
   "metadata": {},
   "source": [
    "#### 3.1.1 Cálculo de métricas"
   ]
  },
  {
   "cell_type": "code",
   "execution_count": 24,
   "id": "5807188b-eae1-49b5-932a-3cf832d3497f",
   "metadata": {},
   "outputs": [
    {
     "name": "stdout",
     "output_type": "stream",
     "text": [
      "              precision    recall  f1-score   support\n",
      "\n",
      "           0       0.58      1.00      0.73        15\n",
      "           1       0.68      0.72      0.70        18\n",
      "           2       0.00      0.00      0.00        12\n",
      "\n",
      "    accuracy                           0.62        45\n",
      "   macro avg       0.42      0.57      0.48        45\n",
      "weighted avg       0.47      0.62      0.52        45\n",
      "\n"
     ]
    },
    {
     "name": "stderr",
     "output_type": "stream",
     "text": [
      "/home/ale/.local/lib/python3.8/site-packages/sklearn/metrics/_classification.py:1308: UndefinedMetricWarning: Precision and F-score are ill-defined and being set to 0.0 in labels with no predicted samples. Use `zero_division` parameter to control this behavior.\n",
      "  _warn_prf(average, modifier, msg_start, len(result))\n",
      "/home/ale/.local/lib/python3.8/site-packages/sklearn/metrics/_classification.py:1308: UndefinedMetricWarning: Precision and F-score are ill-defined and being set to 0.0 in labels with no predicted samples. Use `zero_division` parameter to control this behavior.\n",
      "  _warn_prf(average, modifier, msg_start, len(result))\n",
      "/home/ale/.local/lib/python3.8/site-packages/sklearn/metrics/_classification.py:1308: UndefinedMetricWarning: Precision and F-score are ill-defined and being set to 0.0 in labels with no predicted samples. Use `zero_division` parameter to control this behavior.\n",
      "  _warn_prf(average, modifier, msg_start, len(result))\n"
     ]
    }
   ],
   "source": [
    "from sklearn.metrics import classification_report\n",
    "print(classification_report(y_test, y_test_pred))"
   ]
  },
  {
   "cell_type": "markdown",
   "id": "1bbe661e-4a90-45e5-8a11-b5cbb0a5ebf1",
   "metadata": {},
   "source": [
    "### 3.2 Modelo com hiperparâmetros default e otimização mini-batch, com batch de 32 amostras"
   ]
  },
  {
   "cell_type": "code",
   "execution_count": 25,
   "id": "a3409e88-27d7-4cda-8198-35de7061ea50",
   "metadata": {},
   "outputs": [
    {
     "name": "stdout",
     "output_type": "stream",
     "text": [
      "Imprimindo o objeto:\n",
      "Otimizador: mini\n",
      "Tamanho do batch: 32\n",
      "Taxa de aprendizado: 0.001\n",
      "Número de épocas: 3000\n",
      "Constante de regularização (alpha): 0.0001\n",
      "Estado aleatório: 42\n",
      "\n",
      "Treinado?: False\n",
      "\n"
     ]
    }
   ],
   "source": [
    "clf = LogRegression(optimizer='mini')\n",
    "\n",
    "print('Imprimindo o objeto:')\n",
    "print(clf)"
   ]
  },
  {
   "cell_type": "code",
   "execution_count": 26,
   "id": "1655ac08-d9e2-4c46-98e3-a0a4102f65ac",
   "metadata": {},
   "outputs": [
    {
     "name": "stderr",
     "output_type": "stream",
     "text": [
      "/tmp/ipykernel_624297/2851006349.py:106: RuntimeWarning: overflow encountered in power\n",
      "  return 1 / (1 + np.e ** (-z))\n"
     ]
    }
   ],
   "source": [
    "clf.fit(X_train, y_train)"
   ]
  },
  {
   "cell_type": "code",
   "execution_count": 27,
   "id": "d66bc6d1-16de-4768-be55-97ce6c1aeab1",
   "metadata": {},
   "outputs": [],
   "source": [
    "y_test_pred = clf.predict(X_test)"
   ]
  },
  {
   "cell_type": "markdown",
   "id": "9c6fcfe9-d191-46f5-a642-ab83922c83b1",
   "metadata": {},
   "source": [
    "#### 3.2.1 Cálculo de métricas"
   ]
  },
  {
   "cell_type": "code",
   "execution_count": 28,
   "id": "c6252512-d01a-4bd1-9a64-dcde70dcb52c",
   "metadata": {},
   "outputs": [
    {
     "name": "stdout",
     "output_type": "stream",
     "text": [
      "              precision    recall  f1-score   support\n",
      "\n",
      "           0       1.00      0.87      0.93        15\n",
      "           1       1.00      0.06      0.11        18\n",
      "           2       0.39      1.00      0.56        12\n",
      "\n",
      "    accuracy                           0.58        45\n",
      "   macro avg       0.80      0.64      0.53        45\n",
      "weighted avg       0.84      0.58      0.50        45\n",
      "\n"
     ]
    }
   ],
   "source": [
    "from sklearn.metrics import classification_report\n",
    "print(classification_report(y_test, y_test_pred))"
   ]
  },
  {
   "cell_type": "markdown",
   "id": "3008906b-a323-46f7-83ac-193db1c962d6",
   "metadata": {},
   "source": [
    "### 3.3 Modelo com hiperparâmetros default e otimização SGD"
   ]
  },
  {
   "cell_type": "code",
   "execution_count": 29,
   "id": "0a9b0f88-b7fb-462b-a571-91d6b8837aa0",
   "metadata": {},
   "outputs": [
    {
     "name": "stdout",
     "output_type": "stream",
     "text": [
      "Imprimindo o objeto:\n",
      "Otimizador: stochastic\n",
      "Tamanho do batch: 32\n",
      "Taxa de aprendizado: 0.001\n",
      "Número de épocas: 3000\n",
      "Constante de regularização (alpha): 0.0001\n",
      "Estado aleatório: 42\n",
      "\n",
      "Treinado?: False\n",
      "\n"
     ]
    }
   ],
   "source": [
    "clf = LogRegression(optimizer='stochastic')\n",
    "\n",
    "print('Imprimindo o objeto:')\n",
    "print(clf)"
   ]
  },
  {
   "cell_type": "code",
   "execution_count": 30,
   "id": "8f11b3ef-32ff-4aed-9ca5-fd9fa2cd4a4c",
   "metadata": {},
   "outputs": [
    {
     "name": "stderr",
     "output_type": "stream",
     "text": [
      "/tmp/ipykernel_624297/2851006349.py:106: RuntimeWarning: overflow encountered in power\n",
      "  return 1 / (1 + np.e ** (-z))\n"
     ]
    }
   ],
   "source": [
    "clf.fit(X_train, y_train)"
   ]
  },
  {
   "cell_type": "code",
   "execution_count": 31,
   "id": "6dc3fcf7-b677-4c86-be5b-8ce51dd4d567",
   "metadata": {},
   "outputs": [
    {
     "name": "stderr",
     "output_type": "stream",
     "text": [
      "/tmp/ipykernel_624297/2851006349.py:106: RuntimeWarning: overflow encountered in power\n",
      "  return 1 / (1 + np.e ** (-z))\n"
     ]
    }
   ],
   "source": [
    "y_test_pred = clf.predict(X_test)"
   ]
  },
  {
   "cell_type": "markdown",
   "id": "820e43a4-4b5e-44ce-b0f8-5b70a421aa7c",
   "metadata": {},
   "source": [
    "#### 3.3.1 Cálculo de métricas"
   ]
  },
  {
   "cell_type": "code",
   "execution_count": 32,
   "id": "7521c384-9888-4acc-8cd6-c56dc132f739",
   "metadata": {},
   "outputs": [
    {
     "name": "stdout",
     "output_type": "stream",
     "text": [
      "Imprimindo o objeto:\n",
      "Otimizador: mini\n",
      "Tamanho do batch: 32\n",
      "Taxa de aprendizado: 0.001\n",
      "Número de épocas: 3000\n",
      "Constante de regularização (alpha): 0.0001\n",
      "Estado aleatório: 42\n",
      "\n",
      "Treinado?: False\n",
      "\n"
     ]
    }
   ],
   "source": [
    "clf = LogRegression(optimizer='mini')\n",
    "\n",
    "print('Imprimindo o objeto:')\n",
    "print(clf)"
   ]
  },
  {
   "cell_type": "markdown",
   "id": "3aea057f-a385-4aae-bee2-9178b06b5dff",
   "metadata": {},
   "source": [
    "#### 3.3.1 Cálculo de métricas"
   ]
  },
  {
   "cell_type": "code",
   "execution_count": 33,
   "id": "a778f121-2de8-4be2-bed2-2d65aa393abe",
   "metadata": {},
   "outputs": [
    {
     "name": "stdout",
     "output_type": "stream",
     "text": [
      "              precision    recall  f1-score   support\n",
      "\n",
      "           0       0.54      1.00      0.70        15\n",
      "           1       0.69      0.61      0.65        18\n",
      "           2       1.00      0.08      0.15        12\n",
      "\n",
      "    accuracy                           0.60        45\n",
      "   macro avg       0.74      0.56      0.50        45\n",
      "weighted avg       0.72      0.60      0.53        45\n",
      "\n"
     ]
    }
   ],
   "source": [
    "from sklearn.metrics import classification_report\n",
    "print(classification_report(y_test, y_test_pred))"
   ]
  },
  {
   "cell_type": "markdown",
   "id": "ef1bf6f1-62cb-4b01-8f34-8748f91cef2b",
   "metadata": {},
   "source": [
    "### 3.4. Fine tuning com grid search"
   ]
  },
  {
   "cell_type": "code",
   "execution_count": 18,
   "id": "fd718c4f-53be-4a52-9f1a-e6e89ea1ef0b",
   "metadata": {},
   "outputs": [],
   "source": [
    "from sklearn.pipeline import Pipeline\n",
    "\n",
    "pipeline_multiclass_LR = Pipeline([\n",
    "        ('log_regression', LogRegression())\n",
    "])"
   ]
  },
  {
   "cell_type": "code",
   "execution_count": 19,
   "id": "dd6b6f2e-c8fb-493c-8c13-ca8570012705",
   "metadata": {},
   "outputs": [
    {
     "data": {
      "text/plain": [
       "{'memory': None,\n",
       " 'steps': [('log_regression', LogRegression())],\n",
       " 'verbose': False,\n",
       " 'log_regression': LogRegression(),\n",
       " 'log_regression__alpha': 0.0001,\n",
       " 'log_regression__batch_sz': 32,\n",
       " 'log_regression__learning_rate': 0.001,\n",
       " 'log_regression__n_epochs': 3000,\n",
       " 'log_regression__optimizer': 'batch',\n",
       " 'log_regression__random_state': 42}"
      ]
     },
     "execution_count": 19,
     "metadata": {},
     "output_type": "execute_result"
    }
   ],
   "source": [
    "pipeline_multiclass_LR.get_params()"
   ]
  },
  {
   "cell_type": "markdown",
   "id": "379088b7-2aa6-4d7b-a8fc-82941930134b",
   "metadata": {},
   "source": [
    "#### 3.4.1 Definição do conjunto de hiperparâmetros a serem testados"
   ]
  },
  {
   "cell_type": "code",
   "execution_count": 20,
   "id": "fffe055d-2503-4c69-89f5-bc9e046d92f9",
   "metadata": {},
   "outputs": [],
   "source": [
    "# search space\n",
    "param_grid = [\n",
    "    {\n",
    "    'log_regression__n_epochs': [3000, 4000],\n",
    "    'log_regression__alpha': [0, 0.0001],\n",
    "    'log_regression__optimizer': ['batch', 'mini', 'stochastic'],\n",
    "    'log_regression__batch_sz': [16, 32]\n",
    "    }\n",
    "]"
   ]
  },
  {
   "cell_type": "code",
   "execution_count": 21,
   "id": "ecbdf971-b92e-4cf1-947c-4ae2212439cc",
   "metadata": {},
   "outputs": [],
   "source": [
    "from sklearn.model_selection import GridSearchCV\n",
    "\n",
    "grid_search_multiclass_LR = GridSearchCV(pipeline_multiclass_LR, param_grid, cv=10, scoring='balanced_accuracy', verbose=0)"
   ]
  },
  {
   "cell_type": "code",
   "execution_count": 22,
   "id": "64ae3f67-ae29-409a-9372-a9d39348292a",
   "metadata": {
    "tags": []
   },
   "outputs": [
    {
     "name": "stderr",
     "output_type": "stream",
     "text": [
      "/tmp/ipykernel_617451/2851006349.py:106: RuntimeWarning: overflow encountered in power\n",
      "  return 1 / (1 + np.e ** (-z))\n",
      "/tmp/ipykernel_617451/2851006349.py:106: RuntimeWarning: overflow encountered in power\n",
      "  return 1 / (1 + np.e ** (-z))\n",
      "/tmp/ipykernel_617451/2851006349.py:106: RuntimeWarning: overflow encountered in power\n",
      "  return 1 / (1 + np.e ** (-z))\n",
      "/tmp/ipykernel_617451/2851006349.py:106: RuntimeWarning: overflow encountered in power\n",
      "  return 1 / (1 + np.e ** (-z))\n",
      "/tmp/ipykernel_617451/2851006349.py:106: RuntimeWarning: overflow encountered in power\n",
      "  return 1 / (1 + np.e ** (-z))\n",
      "/tmp/ipykernel_617451/2851006349.py:106: RuntimeWarning: overflow encountered in power\n",
      "  return 1 / (1 + np.e ** (-z))\n",
      "/tmp/ipykernel_617451/2851006349.py:106: RuntimeWarning: overflow encountered in power\n",
      "  return 1 / (1 + np.e ** (-z))\n",
      "/tmp/ipykernel_617451/2851006349.py:106: RuntimeWarning: overflow encountered in power\n",
      "  return 1 / (1 + np.e ** (-z))\n",
      "/tmp/ipykernel_617451/2851006349.py:106: RuntimeWarning: overflow encountered in power\n",
      "  return 1 / (1 + np.e ** (-z))\n",
      "/tmp/ipykernel_617451/2851006349.py:106: RuntimeWarning: overflow encountered in power\n",
      "  return 1 / (1 + np.e ** (-z))\n",
      "/tmp/ipykernel_617451/2851006349.py:106: RuntimeWarning: overflow encountered in power\n",
      "  return 1 / (1 + np.e ** (-z))\n",
      "/tmp/ipykernel_617451/2851006349.py:106: RuntimeWarning: overflow encountered in power\n",
      "  return 1 / (1 + np.e ** (-z))\n",
      "/tmp/ipykernel_617451/2851006349.py:106: RuntimeWarning: overflow encountered in power\n",
      "  return 1 / (1 + np.e ** (-z))\n",
      "/tmp/ipykernel_617451/2851006349.py:106: RuntimeWarning: overflow encountered in power\n",
      "  return 1 / (1 + np.e ** (-z))\n",
      "/tmp/ipykernel_617451/2851006349.py:106: RuntimeWarning: overflow encountered in power\n",
      "  return 1 / (1 + np.e ** (-z))\n",
      "/tmp/ipykernel_617451/2851006349.py:106: RuntimeWarning: overflow encountered in power\n",
      "  return 1 / (1 + np.e ** (-z))\n",
      "/tmp/ipykernel_617451/2851006349.py:106: RuntimeWarning: overflow encountered in power\n",
      "  return 1 / (1 + np.e ** (-z))\n",
      "/tmp/ipykernel_617451/2851006349.py:106: RuntimeWarning: overflow encountered in power\n",
      "  return 1 / (1 + np.e ** (-z))\n",
      "/tmp/ipykernel_617451/2851006349.py:106: RuntimeWarning: overflow encountered in power\n",
      "  return 1 / (1 + np.e ** (-z))\n",
      "/tmp/ipykernel_617451/2851006349.py:106: RuntimeWarning: overflow encountered in power\n",
      "  return 1 / (1 + np.e ** (-z))\n",
      "/tmp/ipykernel_617451/2851006349.py:106: RuntimeWarning: overflow encountered in power\n",
      "  return 1 / (1 + np.e ** (-z))\n",
      "/tmp/ipykernel_617451/2851006349.py:106: RuntimeWarning: overflow encountered in power\n",
      "  return 1 / (1 + np.e ** (-z))\n",
      "/tmp/ipykernel_617451/2851006349.py:106: RuntimeWarning: overflow encountered in power\n",
      "  return 1 / (1 + np.e ** (-z))\n",
      "/tmp/ipykernel_617451/2851006349.py:106: RuntimeWarning: overflow encountered in power\n",
      "  return 1 / (1 + np.e ** (-z))\n",
      "/tmp/ipykernel_617451/2851006349.py:106: RuntimeWarning: overflow encountered in power\n",
      "  return 1 / (1 + np.e ** (-z))\n",
      "/tmp/ipykernel_617451/2851006349.py:106: RuntimeWarning: overflow encountered in power\n",
      "  return 1 / (1 + np.e ** (-z))\n",
      "/tmp/ipykernel_617451/2851006349.py:106: RuntimeWarning: overflow encountered in power\n",
      "  return 1 / (1 + np.e ** (-z))\n",
      "/tmp/ipykernel_617451/2851006349.py:106: RuntimeWarning: overflow encountered in power\n",
      "  return 1 / (1 + np.e ** (-z))\n",
      "/tmp/ipykernel_617451/2851006349.py:106: RuntimeWarning: overflow encountered in power\n",
      "  return 1 / (1 + np.e ** (-z))\n",
      "/tmp/ipykernel_617451/2851006349.py:106: RuntimeWarning: overflow encountered in power\n",
      "  return 1 / (1 + np.e ** (-z))\n",
      "/tmp/ipykernel_617451/2851006349.py:106: RuntimeWarning: overflow encountered in power\n",
      "  return 1 / (1 + np.e ** (-z))\n",
      "/tmp/ipykernel_617451/2851006349.py:106: RuntimeWarning: overflow encountered in power\n",
      "  return 1 / (1 + np.e ** (-z))\n",
      "/tmp/ipykernel_617451/2851006349.py:106: RuntimeWarning: overflow encountered in power\n",
      "  return 1 / (1 + np.e ** (-z))\n",
      "/tmp/ipykernel_617451/2851006349.py:106: RuntimeWarning: overflow encountered in power\n",
      "  return 1 / (1 + np.e ** (-z))\n",
      "/tmp/ipykernel_617451/2851006349.py:106: RuntimeWarning: overflow encountered in power\n",
      "  return 1 / (1 + np.e ** (-z))\n",
      "/tmp/ipykernel_617451/2851006349.py:106: RuntimeWarning: overflow encountered in power\n",
      "  return 1 / (1 + np.e ** (-z))\n",
      "/tmp/ipykernel_617451/2851006349.py:106: RuntimeWarning: overflow encountered in power\n",
      "  return 1 / (1 + np.e ** (-z))\n",
      "/tmp/ipykernel_617451/2851006349.py:106: RuntimeWarning: overflow encountered in power\n",
      "  return 1 / (1 + np.e ** (-z))\n",
      "/tmp/ipykernel_617451/2851006349.py:106: RuntimeWarning: overflow encountered in power\n",
      "  return 1 / (1 + np.e ** (-z))\n",
      "/tmp/ipykernel_617451/2851006349.py:106: RuntimeWarning: overflow encountered in power\n",
      "  return 1 / (1 + np.e ** (-z))\n",
      "/tmp/ipykernel_617451/2851006349.py:106: RuntimeWarning: overflow encountered in power\n",
      "  return 1 / (1 + np.e ** (-z))\n",
      "/tmp/ipykernel_617451/2851006349.py:106: RuntimeWarning: overflow encountered in power\n",
      "  return 1 / (1 + np.e ** (-z))\n",
      "/tmp/ipykernel_617451/2851006349.py:106: RuntimeWarning: overflow encountered in power\n",
      "  return 1 / (1 + np.e ** (-z))\n",
      "/tmp/ipykernel_617451/2851006349.py:106: RuntimeWarning: overflow encountered in power\n",
      "  return 1 / (1 + np.e ** (-z))\n",
      "/tmp/ipykernel_617451/2851006349.py:106: RuntimeWarning: overflow encountered in power\n",
      "  return 1 / (1 + np.e ** (-z))\n",
      "/tmp/ipykernel_617451/2851006349.py:106: RuntimeWarning: overflow encountered in power\n",
      "  return 1 / (1 + np.e ** (-z))\n",
      "/tmp/ipykernel_617451/2851006349.py:106: RuntimeWarning: overflow encountered in power\n",
      "  return 1 / (1 + np.e ** (-z))\n",
      "/tmp/ipykernel_617451/2851006349.py:106: RuntimeWarning: overflow encountered in power\n",
      "  return 1 / (1 + np.e ** (-z))\n",
      "/tmp/ipykernel_617451/2851006349.py:106: RuntimeWarning: overflow encountered in power\n",
      "  return 1 / (1 + np.e ** (-z))\n",
      "/tmp/ipykernel_617451/2851006349.py:106: RuntimeWarning: overflow encountered in power\n",
      "  return 1 / (1 + np.e ** (-z))\n",
      "/tmp/ipykernel_617451/2851006349.py:106: RuntimeWarning: overflow encountered in power\n",
      "  return 1 / (1 + np.e ** (-z))\n",
      "/tmp/ipykernel_617451/2851006349.py:106: RuntimeWarning: overflow encountered in power\n",
      "  return 1 / (1 + np.e ** (-z))\n",
      "/tmp/ipykernel_617451/2851006349.py:106: RuntimeWarning: overflow encountered in power\n",
      "  return 1 / (1 + np.e ** (-z))\n",
      "/tmp/ipykernel_617451/2851006349.py:106: RuntimeWarning: overflow encountered in power\n",
      "  return 1 / (1 + np.e ** (-z))\n",
      "/tmp/ipykernel_617451/2851006349.py:106: RuntimeWarning: overflow encountered in power\n",
      "  return 1 / (1 + np.e ** (-z))\n",
      "/tmp/ipykernel_617451/2851006349.py:106: RuntimeWarning: overflow encountered in power\n",
      "  return 1 / (1 + np.e ** (-z))\n",
      "/tmp/ipykernel_617451/2851006349.py:106: RuntimeWarning: overflow encountered in power\n",
      "  return 1 / (1 + np.e ** (-z))\n",
      "/tmp/ipykernel_617451/2851006349.py:106: RuntimeWarning: overflow encountered in power\n",
      "  return 1 / (1 + np.e ** (-z))\n",
      "/tmp/ipykernel_617451/2851006349.py:106: RuntimeWarning: overflow encountered in power\n",
      "  return 1 / (1 + np.e ** (-z))\n",
      "/tmp/ipykernel_617451/2851006349.py:106: RuntimeWarning: overflow encountered in power\n",
      "  return 1 / (1 + np.e ** (-z))\n",
      "/tmp/ipykernel_617451/2851006349.py:106: RuntimeWarning: overflow encountered in power\n",
      "  return 1 / (1 + np.e ** (-z))\n",
      "/tmp/ipykernel_617451/2851006349.py:106: RuntimeWarning: overflow encountered in power\n",
      "  return 1 / (1 + np.e ** (-z))\n",
      "/tmp/ipykernel_617451/2851006349.py:106: RuntimeWarning: overflow encountered in power\n",
      "  return 1 / (1 + np.e ** (-z))\n",
      "/tmp/ipykernel_617451/2851006349.py:106: RuntimeWarning: overflow encountered in power\n",
      "  return 1 / (1 + np.e ** (-z))\n",
      "/tmp/ipykernel_617451/2851006349.py:106: RuntimeWarning: overflow encountered in power\n",
      "  return 1 / (1 + np.e ** (-z))\n",
      "/tmp/ipykernel_617451/2851006349.py:106: RuntimeWarning: overflow encountered in power\n",
      "  return 1 / (1 + np.e ** (-z))\n",
      "/tmp/ipykernel_617451/2851006349.py:106: RuntimeWarning: overflow encountered in power\n",
      "  return 1 / (1 + np.e ** (-z))\n",
      "/tmp/ipykernel_617451/2851006349.py:106: RuntimeWarning: overflow encountered in power\n",
      "  return 1 / (1 + np.e ** (-z))\n",
      "/tmp/ipykernel_617451/2851006349.py:106: RuntimeWarning: overflow encountered in power\n",
      "  return 1 / (1 + np.e ** (-z))\n",
      "/tmp/ipykernel_617451/2851006349.py:106: RuntimeWarning: overflow encountered in power\n",
      "  return 1 / (1 + np.e ** (-z))\n",
      "/tmp/ipykernel_617451/2851006349.py:106: RuntimeWarning: overflow encountered in power\n",
      "  return 1 / (1 + np.e ** (-z))\n",
      "/tmp/ipykernel_617451/2851006349.py:106: RuntimeWarning: overflow encountered in power\n",
      "  return 1 / (1 + np.e ** (-z))\n",
      "/tmp/ipykernel_617451/2851006349.py:106: RuntimeWarning: overflow encountered in power\n",
      "  return 1 / (1 + np.e ** (-z))\n",
      "/tmp/ipykernel_617451/2851006349.py:106: RuntimeWarning: overflow encountered in power\n",
      "  return 1 / (1 + np.e ** (-z))\n",
      "/tmp/ipykernel_617451/2851006349.py:106: RuntimeWarning: overflow encountered in power\n",
      "  return 1 / (1 + np.e ** (-z))\n",
      "/tmp/ipykernel_617451/2851006349.py:106: RuntimeWarning: overflow encountered in power\n",
      "  return 1 / (1 + np.e ** (-z))\n",
      "/tmp/ipykernel_617451/2851006349.py:106: RuntimeWarning: overflow encountered in power\n",
      "  return 1 / (1 + np.e ** (-z))\n",
      "/tmp/ipykernel_617451/2851006349.py:106: RuntimeWarning: overflow encountered in power\n",
      "  return 1 / (1 + np.e ** (-z))\n",
      "/tmp/ipykernel_617451/2851006349.py:106: RuntimeWarning: overflow encountered in power\n",
      "  return 1 / (1 + np.e ** (-z))\n",
      "/tmp/ipykernel_617451/2851006349.py:106: RuntimeWarning: overflow encountered in power\n",
      "  return 1 / (1 + np.e ** (-z))\n",
      "/tmp/ipykernel_617451/2851006349.py:106: RuntimeWarning: overflow encountered in power\n",
      "  return 1 / (1 + np.e ** (-z))\n",
      "/tmp/ipykernel_617451/2851006349.py:106: RuntimeWarning: overflow encountered in power\n",
      "  return 1 / (1 + np.e ** (-z))\n",
      "/tmp/ipykernel_617451/2851006349.py:106: RuntimeWarning: overflow encountered in power\n",
      "  return 1 / (1 + np.e ** (-z))\n",
      "/tmp/ipykernel_617451/2851006349.py:106: RuntimeWarning: overflow encountered in power\n",
      "  return 1 / (1 + np.e ** (-z))\n",
      "/tmp/ipykernel_617451/2851006349.py:106: RuntimeWarning: overflow encountered in power\n",
      "  return 1 / (1 + np.e ** (-z))\n",
      "/tmp/ipykernel_617451/2851006349.py:106: RuntimeWarning: overflow encountered in power\n",
      "  return 1 / (1 + np.e ** (-z))\n",
      "/tmp/ipykernel_617451/2851006349.py:106: RuntimeWarning: overflow encountered in power\n",
      "  return 1 / (1 + np.e ** (-z))\n",
      "/tmp/ipykernel_617451/2851006349.py:106: RuntimeWarning: overflow encountered in power\n",
      "  return 1 / (1 + np.e ** (-z))\n",
      "/tmp/ipykernel_617451/2851006349.py:106: RuntimeWarning: overflow encountered in power\n",
      "  return 1 / (1 + np.e ** (-z))\n",
      "/tmp/ipykernel_617451/2851006349.py:106: RuntimeWarning: overflow encountered in power\n",
      "  return 1 / (1 + np.e ** (-z))\n",
      "/tmp/ipykernel_617451/2851006349.py:106: RuntimeWarning: overflow encountered in power\n",
      "  return 1 / (1 + np.e ** (-z))\n",
      "/tmp/ipykernel_617451/2851006349.py:106: RuntimeWarning: overflow encountered in power\n",
      "  return 1 / (1 + np.e ** (-z))\n",
      "/tmp/ipykernel_617451/2851006349.py:106: RuntimeWarning: overflow encountered in power\n",
      "  return 1 / (1 + np.e ** (-z))\n",
      "/tmp/ipykernel_617451/2851006349.py:106: RuntimeWarning: overflow encountered in power\n",
      "  return 1 / (1 + np.e ** (-z))\n",
      "/tmp/ipykernel_617451/2851006349.py:106: RuntimeWarning: overflow encountered in power\n",
      "  return 1 / (1 + np.e ** (-z))\n",
      "/tmp/ipykernel_617451/2851006349.py:106: RuntimeWarning: overflow encountered in power\n",
      "  return 1 / (1 + np.e ** (-z))\n",
      "/tmp/ipykernel_617451/2851006349.py:106: RuntimeWarning: overflow encountered in power\n",
      "  return 1 / (1 + np.e ** (-z))\n",
      "/tmp/ipykernel_617451/2851006349.py:106: RuntimeWarning: overflow encountered in power\n",
      "  return 1 / (1 + np.e ** (-z))\n",
      "/tmp/ipykernel_617451/2851006349.py:106: RuntimeWarning: overflow encountered in power\n",
      "  return 1 / (1 + np.e ** (-z))\n",
      "/tmp/ipykernel_617451/2851006349.py:106: RuntimeWarning: overflow encountered in power\n",
      "  return 1 / (1 + np.e ** (-z))\n",
      "/tmp/ipykernel_617451/2851006349.py:106: RuntimeWarning: overflow encountered in power\n",
      "  return 1 / (1 + np.e ** (-z))\n",
      "/tmp/ipykernel_617451/2851006349.py:106: RuntimeWarning: overflow encountered in power\n",
      "  return 1 / (1 + np.e ** (-z))\n",
      "/tmp/ipykernel_617451/2851006349.py:106: RuntimeWarning: overflow encountered in power\n",
      "  return 1 / (1 + np.e ** (-z))\n",
      "/tmp/ipykernel_617451/2851006349.py:106: RuntimeWarning: overflow encountered in power\n",
      "  return 1 / (1 + np.e ** (-z))\n",
      "/tmp/ipykernel_617451/2851006349.py:106: RuntimeWarning: overflow encountered in power\n",
      "  return 1 / (1 + np.e ** (-z))\n",
      "/tmp/ipykernel_617451/2851006349.py:106: RuntimeWarning: overflow encountered in power\n",
      "  return 1 / (1 + np.e ** (-z))\n",
      "/tmp/ipykernel_617451/2851006349.py:106: RuntimeWarning: overflow encountered in power\n",
      "  return 1 / (1 + np.e ** (-z))\n",
      "/tmp/ipykernel_617451/2851006349.py:106: RuntimeWarning: overflow encountered in power\n",
      "  return 1 / (1 + np.e ** (-z))\n",
      "/tmp/ipykernel_617451/2851006349.py:106: RuntimeWarning: overflow encountered in power\n",
      "  return 1 / (1 + np.e ** (-z))\n",
      "/tmp/ipykernel_617451/2851006349.py:106: RuntimeWarning: overflow encountered in power\n",
      "  return 1 / (1 + np.e ** (-z))\n",
      "/tmp/ipykernel_617451/2851006349.py:106: RuntimeWarning: overflow encountered in power\n",
      "  return 1 / (1 + np.e ** (-z))\n",
      "/tmp/ipykernel_617451/2851006349.py:106: RuntimeWarning: overflow encountered in power\n",
      "  return 1 / (1 + np.e ** (-z))\n",
      "/tmp/ipykernel_617451/2851006349.py:106: RuntimeWarning: overflow encountered in power\n",
      "  return 1 / (1 + np.e ** (-z))\n",
      "/tmp/ipykernel_617451/2851006349.py:106: RuntimeWarning: overflow encountered in power\n",
      "  return 1 / (1 + np.e ** (-z))\n",
      "/tmp/ipykernel_617451/2851006349.py:106: RuntimeWarning: overflow encountered in power\n",
      "  return 1 / (1 + np.e ** (-z))\n",
      "/tmp/ipykernel_617451/2851006349.py:106: RuntimeWarning: overflow encountered in power\n",
      "  return 1 / (1 + np.e ** (-z))\n",
      "/tmp/ipykernel_617451/2851006349.py:106: RuntimeWarning: overflow encountered in power\n",
      "  return 1 / (1 + np.e ** (-z))\n",
      "/tmp/ipykernel_617451/2851006349.py:106: RuntimeWarning: overflow encountered in power\n",
      "  return 1 / (1 + np.e ** (-z))\n",
      "/tmp/ipykernel_617451/2851006349.py:106: RuntimeWarning: overflow encountered in power\n",
      "  return 1 / (1 + np.e ** (-z))\n",
      "/tmp/ipykernel_617451/2851006349.py:106: RuntimeWarning: overflow encountered in power\n",
      "  return 1 / (1 + np.e ** (-z))\n",
      "/tmp/ipykernel_617451/2851006349.py:106: RuntimeWarning: overflow encountered in power\n",
      "  return 1 / (1 + np.e ** (-z))\n",
      "/tmp/ipykernel_617451/2851006349.py:106: RuntimeWarning: overflow encountered in power\n",
      "  return 1 / (1 + np.e ** (-z))\n",
      "/tmp/ipykernel_617451/2851006349.py:106: RuntimeWarning: overflow encountered in power\n",
      "  return 1 / (1 + np.e ** (-z))\n",
      "/tmp/ipykernel_617451/2851006349.py:106: RuntimeWarning: overflow encountered in power\n",
      "  return 1 / (1 + np.e ** (-z))\n",
      "/tmp/ipykernel_617451/2851006349.py:106: RuntimeWarning: overflow encountered in power\n",
      "  return 1 / (1 + np.e ** (-z))\n",
      "/tmp/ipykernel_617451/2851006349.py:106: RuntimeWarning: overflow encountered in power\n",
      "  return 1 / (1 + np.e ** (-z))\n",
      "/tmp/ipykernel_617451/2851006349.py:106: RuntimeWarning: overflow encountered in power\n",
      "  return 1 / (1 + np.e ** (-z))\n",
      "/tmp/ipykernel_617451/2851006349.py:106: RuntimeWarning: overflow encountered in power\n",
      "  return 1 / (1 + np.e ** (-z))\n",
      "/tmp/ipykernel_617451/2851006349.py:106: RuntimeWarning: overflow encountered in power\n",
      "  return 1 / (1 + np.e ** (-z))\n",
      "/tmp/ipykernel_617451/2851006349.py:106: RuntimeWarning: overflow encountered in power\n",
      "  return 1 / (1 + np.e ** (-z))\n",
      "/tmp/ipykernel_617451/2851006349.py:106: RuntimeWarning: overflow encountered in power\n",
      "  return 1 / (1 + np.e ** (-z))\n",
      "/tmp/ipykernel_617451/2851006349.py:106: RuntimeWarning: overflow encountered in power\n",
      "  return 1 / (1 + np.e ** (-z))\n",
      "/tmp/ipykernel_617451/2851006349.py:106: RuntimeWarning: overflow encountered in power\n",
      "  return 1 / (1 + np.e ** (-z))\n",
      "/tmp/ipykernel_617451/2851006349.py:106: RuntimeWarning: overflow encountered in power\n",
      "  return 1 / (1 + np.e ** (-z))\n",
      "/tmp/ipykernel_617451/2851006349.py:106: RuntimeWarning: overflow encountered in power\n",
      "  return 1 / (1 + np.e ** (-z))\n",
      "/tmp/ipykernel_617451/2851006349.py:106: RuntimeWarning: overflow encountered in power\n",
      "  return 1 / (1 + np.e ** (-z))\n",
      "/tmp/ipykernel_617451/2851006349.py:106: RuntimeWarning: overflow encountered in power\n",
      "  return 1 / (1 + np.e ** (-z))\n",
      "/tmp/ipykernel_617451/2851006349.py:106: RuntimeWarning: overflow encountered in power\n",
      "  return 1 / (1 + np.e ** (-z))\n",
      "/tmp/ipykernel_617451/2851006349.py:106: RuntimeWarning: overflow encountered in power\n",
      "  return 1 / (1 + np.e ** (-z))\n",
      "/tmp/ipykernel_617451/2851006349.py:106: RuntimeWarning: overflow encountered in power\n",
      "  return 1 / (1 + np.e ** (-z))\n",
      "/tmp/ipykernel_617451/2851006349.py:106: RuntimeWarning: overflow encountered in power\n",
      "  return 1 / (1 + np.e ** (-z))\n",
      "/tmp/ipykernel_617451/2851006349.py:106: RuntimeWarning: overflow encountered in power\n",
      "  return 1 / (1 + np.e ** (-z))\n",
      "/tmp/ipykernel_617451/2851006349.py:106: RuntimeWarning: overflow encountered in power\n",
      "  return 1 / (1 + np.e ** (-z))\n",
      "/tmp/ipykernel_617451/2851006349.py:106: RuntimeWarning: overflow encountered in power\n",
      "  return 1 / (1 + np.e ** (-z))\n",
      "/tmp/ipykernel_617451/2851006349.py:106: RuntimeWarning: overflow encountered in power\n",
      "  return 1 / (1 + np.e ** (-z))\n",
      "/tmp/ipykernel_617451/2851006349.py:106: RuntimeWarning: overflow encountered in power\n",
      "  return 1 / (1 + np.e ** (-z))\n",
      "/tmp/ipykernel_617451/2851006349.py:106: RuntimeWarning: overflow encountered in power\n",
      "  return 1 / (1 + np.e ** (-z))\n",
      "/tmp/ipykernel_617451/2851006349.py:106: RuntimeWarning: overflow encountered in power\n",
      "  return 1 / (1 + np.e ** (-z))\n",
      "/tmp/ipykernel_617451/2851006349.py:106: RuntimeWarning: overflow encountered in power\n",
      "  return 1 / (1 + np.e ** (-z))\n",
      "/tmp/ipykernel_617451/2851006349.py:106: RuntimeWarning: overflow encountered in power\n",
      "  return 1 / (1 + np.e ** (-z))\n",
      "/tmp/ipykernel_617451/2851006349.py:106: RuntimeWarning: overflow encountered in power\n",
      "  return 1 / (1 + np.e ** (-z))\n",
      "/tmp/ipykernel_617451/2851006349.py:106: RuntimeWarning: overflow encountered in power\n",
      "  return 1 / (1 + np.e ** (-z))\n",
      "/tmp/ipykernel_617451/2851006349.py:106: RuntimeWarning: overflow encountered in power\n",
      "  return 1 / (1 + np.e ** (-z))\n",
      "/tmp/ipykernel_617451/2851006349.py:106: RuntimeWarning: overflow encountered in power\n",
      "  return 1 / (1 + np.e ** (-z))\n",
      "/tmp/ipykernel_617451/2851006349.py:106: RuntimeWarning: overflow encountered in power\n",
      "  return 1 / (1 + np.e ** (-z))\n",
      "/tmp/ipykernel_617451/2851006349.py:106: RuntimeWarning: overflow encountered in power\n",
      "  return 1 / (1 + np.e ** (-z))\n",
      "/tmp/ipykernel_617451/2851006349.py:106: RuntimeWarning: overflow encountered in power\n",
      "  return 1 / (1 + np.e ** (-z))\n",
      "/tmp/ipykernel_617451/2851006349.py:106: RuntimeWarning: overflow encountered in power\n",
      "  return 1 / (1 + np.e ** (-z))\n",
      "/tmp/ipykernel_617451/2851006349.py:106: RuntimeWarning: overflow encountered in power\n",
      "  return 1 / (1 + np.e ** (-z))\n",
      "/tmp/ipykernel_617451/2851006349.py:106: RuntimeWarning: overflow encountered in power\n",
      "  return 1 / (1 + np.e ** (-z))\n",
      "/tmp/ipykernel_617451/2851006349.py:106: RuntimeWarning: overflow encountered in power\n",
      "  return 1 / (1 + np.e ** (-z))\n",
      "/tmp/ipykernel_617451/2851006349.py:106: RuntimeWarning: overflow encountered in power\n",
      "  return 1 / (1 + np.e ** (-z))\n",
      "/tmp/ipykernel_617451/2851006349.py:106: RuntimeWarning: overflow encountered in power\n",
      "  return 1 / (1 + np.e ** (-z))\n",
      "/tmp/ipykernel_617451/2851006349.py:106: RuntimeWarning: overflow encountered in power\n",
      "  return 1 / (1 + np.e ** (-z))\n",
      "/tmp/ipykernel_617451/2851006349.py:106: RuntimeWarning: overflow encountered in power\n",
      "  return 1 / (1 + np.e ** (-z))\n",
      "/tmp/ipykernel_617451/2851006349.py:106: RuntimeWarning: overflow encountered in power\n",
      "  return 1 / (1 + np.e ** (-z))\n",
      "/tmp/ipykernel_617451/2851006349.py:106: RuntimeWarning: overflow encountered in power\n",
      "  return 1 / (1 + np.e ** (-z))\n",
      "/tmp/ipykernel_617451/2851006349.py:106: RuntimeWarning: overflow encountered in power\n",
      "  return 1 / (1 + np.e ** (-z))\n",
      "/tmp/ipykernel_617451/2851006349.py:106: RuntimeWarning: overflow encountered in power\n",
      "  return 1 / (1 + np.e ** (-z))\n",
      "/tmp/ipykernel_617451/2851006349.py:106: RuntimeWarning: overflow encountered in power\n",
      "  return 1 / (1 + np.e ** (-z))\n",
      "/tmp/ipykernel_617451/2851006349.py:106: RuntimeWarning: overflow encountered in power\n",
      "  return 1 / (1 + np.e ** (-z))\n",
      "/tmp/ipykernel_617451/2851006349.py:106: RuntimeWarning: overflow encountered in power\n",
      "  return 1 / (1 + np.e ** (-z))\n",
      "/tmp/ipykernel_617451/2851006349.py:106: RuntimeWarning: overflow encountered in power\n",
      "  return 1 / (1 + np.e ** (-z))\n",
      "/tmp/ipykernel_617451/2851006349.py:106: RuntimeWarning: overflow encountered in power\n",
      "  return 1 / (1 + np.e ** (-z))\n",
      "/tmp/ipykernel_617451/2851006349.py:106: RuntimeWarning: overflow encountered in power\n",
      "  return 1 / (1 + np.e ** (-z))\n",
      "/tmp/ipykernel_617451/2851006349.py:106: RuntimeWarning: overflow encountered in power\n",
      "  return 1 / (1 + np.e ** (-z))\n",
      "/tmp/ipykernel_617451/2851006349.py:106: RuntimeWarning: overflow encountered in power\n",
      "  return 1 / (1 + np.e ** (-z))\n",
      "/tmp/ipykernel_617451/2851006349.py:106: RuntimeWarning: overflow encountered in power\n",
      "  return 1 / (1 + np.e ** (-z))\n",
      "/tmp/ipykernel_617451/2851006349.py:106: RuntimeWarning: overflow encountered in power\n",
      "  return 1 / (1 + np.e ** (-z))\n",
      "/tmp/ipykernel_617451/2851006349.py:106: RuntimeWarning: overflow encountered in power\n",
      "  return 1 / (1 + np.e ** (-z))\n",
      "/tmp/ipykernel_617451/2851006349.py:106: RuntimeWarning: overflow encountered in power\n",
      "  return 1 / (1 + np.e ** (-z))\n",
      "/tmp/ipykernel_617451/2851006349.py:106: RuntimeWarning: overflow encountered in power\n",
      "  return 1 / (1 + np.e ** (-z))\n",
      "/tmp/ipykernel_617451/2851006349.py:106: RuntimeWarning: overflow encountered in power\n",
      "  return 1 / (1 + np.e ** (-z))\n",
      "/tmp/ipykernel_617451/2851006349.py:106: RuntimeWarning: overflow encountered in power\n",
      "  return 1 / (1 + np.e ** (-z))\n",
      "/tmp/ipykernel_617451/2851006349.py:106: RuntimeWarning: overflow encountered in power\n",
      "  return 1 / (1 + np.e ** (-z))\n",
      "/tmp/ipykernel_617451/2851006349.py:106: RuntimeWarning: overflow encountered in power\n",
      "  return 1 / (1 + np.e ** (-z))\n",
      "/tmp/ipykernel_617451/2851006349.py:106: RuntimeWarning: overflow encountered in power\n",
      "  return 1 / (1 + np.e ** (-z))\n",
      "/tmp/ipykernel_617451/2851006349.py:106: RuntimeWarning: overflow encountered in power\n",
      "  return 1 / (1 + np.e ** (-z))\n",
      "/tmp/ipykernel_617451/2851006349.py:106: RuntimeWarning: overflow encountered in power\n",
      "  return 1 / (1 + np.e ** (-z))\n",
      "/tmp/ipykernel_617451/2851006349.py:106: RuntimeWarning: overflow encountered in power\n",
      "  return 1 / (1 + np.e ** (-z))\n",
      "/tmp/ipykernel_617451/2851006349.py:106: RuntimeWarning: overflow encountered in power\n",
      "  return 1 / (1 + np.e ** (-z))\n",
      "/tmp/ipykernel_617451/2851006349.py:106: RuntimeWarning: overflow encountered in power\n",
      "  return 1 / (1 + np.e ** (-z))\n",
      "/tmp/ipykernel_617451/2851006349.py:106: RuntimeWarning: overflow encountered in power\n",
      "  return 1 / (1 + np.e ** (-z))\n",
      "/tmp/ipykernel_617451/2851006349.py:106: RuntimeWarning: overflow encountered in power\n",
      "  return 1 / (1 + np.e ** (-z))\n",
      "/tmp/ipykernel_617451/2851006349.py:106: RuntimeWarning: overflow encountered in power\n",
      "  return 1 / (1 + np.e ** (-z))\n",
      "/tmp/ipykernel_617451/2851006349.py:106: RuntimeWarning: overflow encountered in power\n",
      "  return 1 / (1 + np.e ** (-z))\n",
      "/tmp/ipykernel_617451/2851006349.py:106: RuntimeWarning: overflow encountered in power\n",
      "  return 1 / (1 + np.e ** (-z))\n",
      "/tmp/ipykernel_617451/2851006349.py:106: RuntimeWarning: overflow encountered in power\n",
      "  return 1 / (1 + np.e ** (-z))\n",
      "/tmp/ipykernel_617451/2851006349.py:106: RuntimeWarning: overflow encountered in power\n",
      "  return 1 / (1 + np.e ** (-z))\n",
      "/tmp/ipykernel_617451/2851006349.py:106: RuntimeWarning: overflow encountered in power\n",
      "  return 1 / (1 + np.e ** (-z))\n",
      "/tmp/ipykernel_617451/2851006349.py:106: RuntimeWarning: overflow encountered in power\n",
      "  return 1 / (1 + np.e ** (-z))\n",
      "/tmp/ipykernel_617451/2851006349.py:106: RuntimeWarning: overflow encountered in power\n",
      "  return 1 / (1 + np.e ** (-z))\n",
      "/tmp/ipykernel_617451/2851006349.py:106: RuntimeWarning: overflow encountered in power\n",
      "  return 1 / (1 + np.e ** (-z))\n",
      "/tmp/ipykernel_617451/2851006349.py:106: RuntimeWarning: overflow encountered in power\n",
      "  return 1 / (1 + np.e ** (-z))\n",
      "/tmp/ipykernel_617451/2851006349.py:106: RuntimeWarning: overflow encountered in power\n",
      "  return 1 / (1 + np.e ** (-z))\n",
      "/tmp/ipykernel_617451/2851006349.py:106: RuntimeWarning: overflow encountered in power\n",
      "  return 1 / (1 + np.e ** (-z))\n",
      "/tmp/ipykernel_617451/2851006349.py:106: RuntimeWarning: overflow encountered in power\n",
      "  return 1 / (1 + np.e ** (-z))\n",
      "/tmp/ipykernel_617451/2851006349.py:106: RuntimeWarning: overflow encountered in power\n",
      "  return 1 / (1 + np.e ** (-z))\n",
      "/tmp/ipykernel_617451/2851006349.py:106: RuntimeWarning: overflow encountered in power\n",
      "  return 1 / (1 + np.e ** (-z))\n",
      "/tmp/ipykernel_617451/2851006349.py:106: RuntimeWarning: overflow encountered in power\n",
      "  return 1 / (1 + np.e ** (-z))\n",
      "/tmp/ipykernel_617451/2851006349.py:106: RuntimeWarning: overflow encountered in power\n",
      "  return 1 / (1 + np.e ** (-z))\n",
      "/tmp/ipykernel_617451/2851006349.py:106: RuntimeWarning: overflow encountered in power\n",
      "  return 1 / (1 + np.e ** (-z))\n",
      "/tmp/ipykernel_617451/2851006349.py:106: RuntimeWarning: overflow encountered in power\n",
      "  return 1 / (1 + np.e ** (-z))\n",
      "/tmp/ipykernel_617451/2851006349.py:106: RuntimeWarning: overflow encountered in power\n",
      "  return 1 / (1 + np.e ** (-z))\n",
      "/tmp/ipykernel_617451/2851006349.py:106: RuntimeWarning: overflow encountered in power\n",
      "  return 1 / (1 + np.e ** (-z))\n",
      "/tmp/ipykernel_617451/2851006349.py:106: RuntimeWarning: overflow encountered in power\n",
      "  return 1 / (1 + np.e ** (-z))\n",
      "/tmp/ipykernel_617451/2851006349.py:106: RuntimeWarning: overflow encountered in power\n",
      "  return 1 / (1 + np.e ** (-z))\n",
      "/tmp/ipykernel_617451/2851006349.py:106: RuntimeWarning: overflow encountered in power\n",
      "  return 1 / (1 + np.e ** (-z))\n",
      "/tmp/ipykernel_617451/2851006349.py:106: RuntimeWarning: overflow encountered in power\n",
      "  return 1 / (1 + np.e ** (-z))\n",
      "/tmp/ipykernel_617451/2851006349.py:106: RuntimeWarning: overflow encountered in power\n",
      "  return 1 / (1 + np.e ** (-z))\n",
      "/tmp/ipykernel_617451/2851006349.py:106: RuntimeWarning: overflow encountered in power\n",
      "  return 1 / (1 + np.e ** (-z))\n",
      "/tmp/ipykernel_617451/2851006349.py:106: RuntimeWarning: overflow encountered in power\n",
      "  return 1 / (1 + np.e ** (-z))\n",
      "/tmp/ipykernel_617451/2851006349.py:106: RuntimeWarning: overflow encountered in power\n",
      "  return 1 / (1 + np.e ** (-z))\n",
      "/tmp/ipykernel_617451/2851006349.py:106: RuntimeWarning: overflow encountered in power\n",
      "  return 1 / (1 + np.e ** (-z))\n",
      "/tmp/ipykernel_617451/2851006349.py:106: RuntimeWarning: overflow encountered in power\n",
      "  return 1 / (1 + np.e ** (-z))\n",
      "/tmp/ipykernel_617451/2851006349.py:106: RuntimeWarning: overflow encountered in power\n",
      "  return 1 / (1 + np.e ** (-z))\n",
      "/tmp/ipykernel_617451/2851006349.py:106: RuntimeWarning: overflow encountered in power\n",
      "  return 1 / (1 + np.e ** (-z))\n",
      "/tmp/ipykernel_617451/2851006349.py:106: RuntimeWarning: overflow encountered in power\n",
      "  return 1 / (1 + np.e ** (-z))\n",
      "/tmp/ipykernel_617451/2851006349.py:106: RuntimeWarning: overflow encountered in power\n",
      "  return 1 / (1 + np.e ** (-z))\n",
      "/tmp/ipykernel_617451/2851006349.py:106: RuntimeWarning: overflow encountered in power\n",
      "  return 1 / (1 + np.e ** (-z))\n",
      "/tmp/ipykernel_617451/2851006349.py:106: RuntimeWarning: overflow encountered in power\n",
      "  return 1 / (1 + np.e ** (-z))\n",
      "/tmp/ipykernel_617451/2851006349.py:106: RuntimeWarning: overflow encountered in power\n",
      "  return 1 / (1 + np.e ** (-z))\n",
      "/tmp/ipykernel_617451/2851006349.py:106: RuntimeWarning: overflow encountered in power\n",
      "  return 1 / (1 + np.e ** (-z))\n",
      "/tmp/ipykernel_617451/2851006349.py:106: RuntimeWarning: overflow encountered in power\n",
      "  return 1 / (1 + np.e ** (-z))\n",
      "/tmp/ipykernel_617451/2851006349.py:106: RuntimeWarning: overflow encountered in power\n",
      "  return 1 / (1 + np.e ** (-z))\n",
      "/tmp/ipykernel_617451/2851006349.py:106: RuntimeWarning: overflow encountered in power\n",
      "  return 1 / (1 + np.e ** (-z))\n",
      "/tmp/ipykernel_617451/2851006349.py:106: RuntimeWarning: overflow encountered in power\n",
      "  return 1 / (1 + np.e ** (-z))\n",
      "/tmp/ipykernel_617451/2851006349.py:106: RuntimeWarning: overflow encountered in power\n",
      "  return 1 / (1 + np.e ** (-z))\n",
      "/tmp/ipykernel_617451/2851006349.py:106: RuntimeWarning: overflow encountered in power\n",
      "  return 1 / (1 + np.e ** (-z))\n",
      "/tmp/ipykernel_617451/2851006349.py:106: RuntimeWarning: overflow encountered in power\n",
      "  return 1 / (1 + np.e ** (-z))\n",
      "/tmp/ipykernel_617451/2851006349.py:106: RuntimeWarning: overflow encountered in power\n",
      "  return 1 / (1 + np.e ** (-z))\n"
     ]
    },
    {
     "data": {
      "text/plain": [
       "GridSearchCV(cv=10,\n",
       "             estimator=Pipeline(steps=[('log_regression', LogRegression())]),\n",
       "             param_grid=[{'log_regression__alpha': [0, 0.0001],\n",
       "                          'log_regression__batch_sz': [16, 32],\n",
       "                          'log_regression__n_epochs': [3000, 4000],\n",
       "                          'log_regression__optimizer': ['batch', 'mini',\n",
       "                                                        'stochastic']}],\n",
       "             scoring='balanced_accuracy')"
      ]
     },
     "execution_count": 22,
     "metadata": {},
     "output_type": "execute_result"
    }
   ],
   "source": [
    "grid_search_multiclass_LR.fit(X_train, y_train)"
   ]
  },
  {
   "cell_type": "code",
   "execution_count": 23,
   "id": "84a46fa6-e248-4be4-8611-d90a79c7e16b",
   "metadata": {},
   "outputs": [
    {
     "data": {
      "text/plain": [
       "{'log_regression__alpha': 0,\n",
       " 'log_regression__batch_sz': 16,\n",
       " 'log_regression__n_epochs': 4000,\n",
       " 'log_regression__optimizer': 'stochastic'}"
      ]
     },
     "execution_count": 23,
     "metadata": {},
     "output_type": "execute_result"
    }
   ],
   "source": [
    "grid_search_multiclass_LR.best_params_"
   ]
  },
  {
   "cell_type": "code",
   "execution_count": 24,
   "id": "c5d66657-f620-4b96-9248-552f5f69f23d",
   "metadata": {},
   "outputs": [
    {
     "data": {
      "text/plain": [
       "0.8516666666666668"
      ]
     },
     "execution_count": 24,
     "metadata": {},
     "output_type": "execute_result"
    }
   ],
   "source": [
    "grid_search_multiclass_LR.best_score_"
   ]
  },
  {
   "cell_type": "markdown",
   "id": "ceae544a-d74f-4875-ba9e-d53b91998aad",
   "metadata": {},
   "source": [
    "#### 3.4.2. Inferência usando o melhor conjunto de hiperparâmetros"
   ]
  },
  {
   "cell_type": "code",
   "execution_count": 36,
   "id": "70883138-96cc-424b-ad38-e4e8f8585e11",
   "metadata": {},
   "outputs": [
    {
     "name": "stdout",
     "output_type": "stream",
     "text": [
      "Imprimindo o objeto:\n",
      "Otimizador: stochastic\n",
      "Tamanho do batch: 16\n",
      "Taxa de aprendizado: 0.001\n",
      "Número de épocas: 4000\n",
      "Constante de regularização (alpha): 0\n",
      "Estado aleatório: 42\n",
      "\n",
      "Treinado?: False\n",
      "\n"
     ]
    }
   ],
   "source": [
    "clf = LogRegression(n_epochs=4000, optimizer='stochastic', batch_sz=16, alpha=0)\n",
    "\n",
    "print('Imprimindo o objeto:')\n",
    "print(clf)"
   ]
  },
  {
   "cell_type": "code",
   "execution_count": 37,
   "id": "673d99d2-4ba7-4ed3-b07c-f3810281a370",
   "metadata": {},
   "outputs": [
    {
     "name": "stderr",
     "output_type": "stream",
     "text": [
      "/tmp/ipykernel_624297/2851006349.py:106: RuntimeWarning: overflow encountered in power\n",
      "  return 1 / (1 + np.e ** (-z))\n"
     ]
    }
   ],
   "source": [
    "clf.fit(X_train, y_train)"
   ]
  },
  {
   "cell_type": "code",
   "execution_count": 38,
   "id": "45dd4e0a-4bdb-4d13-a3cd-c5eea2fea313",
   "metadata": {},
   "outputs": [
    {
     "name": "stderr",
     "output_type": "stream",
     "text": [
      "/tmp/ipykernel_624297/2851006349.py:106: RuntimeWarning: overflow encountered in power\n",
      "  return 1 / (1 + np.e ** (-z))\n"
     ]
    }
   ],
   "source": [
    "y_test_pred = clf.predict(X_test)"
   ]
  },
  {
   "cell_type": "markdown",
   "id": "32707e47-f8c4-44fa-9bf0-c43eb58fdab3",
   "metadata": {},
   "source": [
    "#### 3.4.3 Cálculo de métricas"
   ]
  },
  {
   "cell_type": "code",
   "execution_count": 39,
   "id": "1bbcba3a-872a-4827-9ee8-076337bc2e64",
   "metadata": {},
   "outputs": [
    {
     "name": "stdout",
     "output_type": "stream",
     "text": [
      "              precision    recall  f1-score   support\n",
      "\n",
      "           0       0.58      1.00      0.73        15\n",
      "           1       0.80      0.67      0.73        18\n",
      "           2       1.00      0.33      0.50        12\n",
      "\n",
      "    accuracy                           0.69        45\n",
      "   macro avg       0.79      0.67      0.65        45\n",
      "weighted avg       0.78      0.69      0.67        45\n",
      "\n"
     ]
    }
   ],
   "source": [
    "from sklearn.metrics import classification_report\n",
    "print(classification_report(y_test, y_test_pred))"
   ]
  },
  {
   "cell_type": "markdown",
   "id": "e400ae97-d7d1-4f49-b9c2-2fac14159f03",
   "metadata": {},
   "source": [
    "### 3.5 Logistic Regression do Sklearn"
   ]
  },
  {
   "cell_type": "code",
   "execution_count": 14,
   "id": "8270921d-43ba-4ea5-a709-3cbb49194bfd",
   "metadata": {},
   "outputs": [
    {
     "data": {
      "text/plain": [
       "LogisticRegression(max_iter=3000)"
      ]
     },
     "execution_count": 14,
     "metadata": {},
     "output_type": "execute_result"
    }
   ],
   "source": [
    "from sklearn.linear_model import LogisticRegression\n",
    "\n",
    "clf = LogisticRegression(max_iter=3000)\n",
    "clf.fit(X_train, y_train)"
   ]
  },
  {
   "cell_type": "code",
   "execution_count": 15,
   "id": "09185f3f-b9a0-4ef3-ba76-5ce472205a11",
   "metadata": {},
   "outputs": [],
   "source": [
    "y_test_pred = clf.predict(X_test)"
   ]
  },
  {
   "cell_type": "markdown",
   "id": "a829a272-95b5-4929-8843-8d6473bd66b3",
   "metadata": {},
   "source": [
    "#### 3.5.3 Cálculo de métricas"
   ]
  },
  {
   "cell_type": "code",
   "execution_count": 16,
   "id": "781a8d49-1830-4df7-8699-3c35e57e89e2",
   "metadata": {},
   "outputs": [
    {
     "name": "stdout",
     "output_type": "stream",
     "text": [
      "              precision    recall  f1-score   support\n",
      "\n",
      "           0       1.00      1.00      1.00        15\n",
      "           1       1.00      1.00      1.00        18\n",
      "           2       1.00      1.00      1.00        12\n",
      "\n",
      "    accuracy                           1.00        45\n",
      "   macro avg       1.00      1.00      1.00        45\n",
      "weighted avg       1.00      1.00      1.00        45\n",
      "\n"
     ]
    }
   ],
   "source": [
    "from sklearn.metrics import classification_report\n",
    "print(classification_report(y_test, y_test_pred))"
   ]
  },
  {
   "cell_type": "code",
   "execution_count": null,
   "id": "57668bc0-b8b1-4fc2-96c7-a78730b48d66",
   "metadata": {},
   "outputs": [],
   "source": []
  }
 ],
 "metadata": {
  "kernelspec": {
   "display_name": "Python 3 (ipykernel)",
   "language": "python",
   "name": "python3"
  },
  "language_info": {
   "codemirror_mode": {
    "name": "ipython",
    "version": 3
   },
   "file_extension": ".py",
   "mimetype": "text/x-python",
   "name": "python",
   "nbconvert_exporter": "python",
   "pygments_lexer": "ipython3",
   "version": "3.8.10"
  }
 },
 "nbformat": 4,
 "nbformat_minor": 5
}
